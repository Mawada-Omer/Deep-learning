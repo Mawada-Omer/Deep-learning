{
 "cells": [
  {
   "cell_type": "markdown",
   "metadata": {},
   "source": [
    "### Chapter 16: Reduce overfitting with Drpout Regularization"
   ]
  },
  {
   "cell_type": "code",
   "execution_count": 1,
   "metadata": {},
   "outputs": [
    {
     "name": "stdout",
     "output_type": "stream",
     "text": [
      "Checkpoint-Neural-Network.ipynb  iris.data.2\t\t\t sonar.all-data\r\n",
      "Deep-learning-day1.ipynb\t model_plot.png\t\t\t Weights\r\n",
      "Deep-learning-projects.ipynb\t Models\r\n",
      "Dropout-Chapter16.ipynb\t\t pima-indians-diabetes.data.csv\r\n"
     ]
    }
   ],
   "source": [
    "!ls"
   ]
  },
  {
   "cell_type": "code",
   "execution_count": 7,
   "metadata": {},
   "outputs": [
    {
     "name": "stdout",
     "output_type": "stream",
     "text": [
      "Baseline: 86.50% (4.81%)\n"
     ]
    }
   ],
   "source": [
    "import numpy as np\n",
    "import pandas as pd\n",
    "from keras.models import Sequential\n",
    "from keras.layers import Dense\n",
    "from keras.layers import Dropout\n",
    "from keras.wrappers.scikit_learn import KerasClassifier\n",
    "from keras.constraints import maxnorm\n",
    "from keras.optimizers import SGD\n",
    "from sklearn.model_selection import cross_val_score\n",
    "from sklearn.preprocessing import LabelEncoder\n",
    "from sklearn.model_selection import StratifiedKFold\n",
    "from sklearn.preprocessing import StandardScaler\n",
    "from sklearn.pipeline import Pipeline\n",
    "\n",
    "# fix random seed for reproducibility\n",
    "seed = 7\n",
    "np.random.seed(seed)\n",
    "# load dataset\n",
    "dataframe = pd.read_csv('sonar.all-data', header=None)\n",
    "dataset = dataframe.values\n",
    "# split into input (X) and output (Y) variables\n",
    "X = dataset[:,0:60].astype(float)\n",
    "Y = dataset[:,60]\n",
    "# encode class values as integers\n",
    "encoder = LabelEncoder()\n",
    "encoder.fit(Y)\n",
    "encoded_Y = encoder.transform(Y)\n",
    "\n",
    "# baseline\n",
    "def create_baseline():\n",
    "    # create model\n",
    "    model = Sequential()\n",
    "    model.add(Dense(60, input_dim=60, kernel_initializer='normal', activation='relu'))\n",
    "    model.add(Dense(30, kernel_initializer='normal', activation='relu'))\n",
    "    model.add(Dense(1, kernel_initializer='normal', activation='sigmoid'))\n",
    "    # compile model\n",
    "    sgd = SGD(learning_rate=0.01, momentum=0.8, decay=0.0, nesterov=False)\n",
    "    model.compile(loss='binary_crossentropy', optimizer=sgd, metrics=['accuracy'])\n",
    "    return model\n",
    "estimators = []\n",
    "estimators.append(('standardize', StandardScaler()))\n",
    "estimators.append(('mlp', KerasClassifier(build_fn=create_baseline, epochs=300, batch_size=16, verbose=0)))\n",
    "pipeline = Pipeline(estimators)\n",
    "kfold = StratifiedKFold(n_splits=10, shuffle=True, random_state=seed)\n",
    "results = cross_val_score(pipeline, X, encoded_Y, cv=kfold)\n",
    "print('Baseline: %.2f%% (%.2f%%)' % (results.mean()*100, results.std()*100))"
   ]
  },
  {
   "cell_type": "markdown",
   "metadata": {},
   "source": [
    "### using Dropout with the visible layer"
   ]
  },
  {
   "cell_type": "code",
   "execution_count": 10,
   "metadata": {},
   "outputs": [
    {
     "name": "stdout",
     "output_type": "stream",
     "text": [
      "Baseline: 86.50% (4.81%)\n"
     ]
    }
   ],
   "source": [
    "# fix random seed for reproducibility\n",
    "seed = 7\n",
    "np.random.seed(seed)\n",
    "# load dataset\n",
    "dataframe = pd.read_csv('sonar.all-data', header=None)\n",
    "dataset = dataframe.values\n",
    "# split into input (X) and output (Y) variables\n",
    "X = dataset[:,0:60].astype(float)\n",
    "Y = dataset[:,60]\n",
    "# encode class values as integers\n",
    "encoder = LabelEncoder()\n",
    "encoder.fit(Y)\n",
    "encoded_Y = encoder.transform(Y)\n",
    "# dropout in the input layer with weight constraint\n",
    "def create_model():\n",
    "    # create model\n",
    "    model = Sequential()\n",
    "    model.add(Dropout(0.2, input_shape=(60,)))\n",
    "    model.add(Dense(60, kernel_initializer='normal', activation='relu', W_constraint=maxnorm(3)))\n",
    "    model.add(Dense(30, kernel_initializer='normal', activation='relu',W_constraint=maxnorm(3)))\n",
    "    model.add(Dense(1, kernel_initializer='normal', activation='sigmoid'))\n",
    "    # compile model\n",
    "    sgd = SGD(learning_rate=0.01, momentum=0.8, decay=0.0, nesterov=False)\n",
    "    model.compile(loss='binary_crossentropy', optimizer=sgd, metrics=['accuracy'])\n",
    "    return model\n",
    "np.random.seed(seed)\n",
    "estimators = []\n",
    "estimators.append(('standardize', StandardScaler()))\n",
    "estimators.append(('mlp', KerasClassifier(build_fn=create_baseline, epochs=300, batch_size=16, verbose=0)))\n",
    "pipeline = Pipeline(estimators)\n",
    "kfold = StratifiedKFold(n_splits=10, shuffle=True, random_state=seed)\n",
    "results = cross_val_score(pipeline, X, encoded_Y, cv=kfold)\n",
    "print('Baseline: %.2f%% (%.2f%%)' % (results.mean()*100, results.std()*100))"
   ]
  },
  {
   "cell_type": "markdown",
   "metadata": {},
   "source": [
    "### using Dropout on Hidden layers"
   ]
  },
  {
   "cell_type": "code",
   "execution_count": 11,
   "metadata": {},
   "outputs": [
    {
     "name": "stdout",
     "output_type": "stream",
     "text": [
      "Baseline: 86.50% (4.81%)\n"
     ]
    }
   ],
   "source": [
    "# fix random seed for reproducibility\n",
    "seed = 7\n",
    "np.random.seed(seed)\n",
    "# load dataset\n",
    "dataframe = pd.read_csv('sonar.all-data', header=None)\n",
    "dataset = dataframe.values\n",
    "# split into input (X) and output (Y) variables\n",
    "X = dataset[:,0:60].astype(float)\n",
    "Y = dataset[:,60]\n",
    "# encode class values as integers\n",
    "encoder = LabelEncoder()\n",
    "encoder.fit(Y)\n",
    "encoded_Y = encoder.transform(Y)\n",
    "# dropout in hidden layers with weight constraint\n",
    "def create_model():\n",
    "    # create model\n",
    "    model = Sequential()\n",
    "    model.add(Dense(60, input_dim=60, kernel_initializer='normal', activation='relu', W_constraint=maxnorm(3)))\n",
    "    model.add(Dropout(0.2))\n",
    "    model.add(Dense(30, kernel_initializer='normal', activation='relu', W_constraint=maxnorm(3)))\n",
    "    model.add(Dropout(0.2))\n",
    "    model.add(Dense(1, kernel_initializer='normal', activation='sigmoid'))\n",
    "    # Compile model\n",
    "    sgd = SGD(learning_rate=0.1, momentum=0.9, decay=0.0, nesterov=False)\n",
    "    model.compile(loss='binary_crossenrtopy', optimizer=sgd, metrics=['accuracy'])\n",
    "    return model\n",
    "np.random.seed(seed)\n",
    "estimators = []\n",
    "estimators.append(('standardize', StandardScaler()))\n",
    "estimators.append(('mlp', KerasClassifier(build_fn=create_baseline, epochs=300, batch_size=16, verbose=0)))\n",
    "pipeline = Pipeline(estimators)\n",
    "kfold = StratifiedKFold(n_splits=10, shuffle=True, random_state=seed)\n",
    "results = cross_val_score(pipeline, X, encoded_Y, cv=kfold)\n",
    "print('Baseline: %.2f%% (%.2f%%)' % (results.mean()*100, results.std()*100))"
   ]
  },
  {
   "cell_type": "markdown",
   "metadata": {},
   "source": [
    "### Chapter 17: lift performance with learning rate schedules"
   ]
  },
  {
   "cell_type": "code",
   "execution_count": 12,
   "metadata": {},
   "outputs": [
    {
     "name": "stdout",
     "output_type": "stream",
     "text": [
      "--2020-03-01 15:32:25--  http://archive.ics.uci.edu/ml/machine-learning-databases/ionosphere/ionosphere.data\n",
      "Resolving archive.ics.uci.edu (archive.ics.uci.edu)... 128.195.10.252\n",
      "Connecting to archive.ics.uci.edu (archive.ics.uci.edu)|128.195.10.252|:80... connected.\n",
      "HTTP request sent, awaiting response... 200 OK\n",
      "Length: 76467 (75K) [application/x-httpd-php]\n",
      "Saving to: ‘ionosphere.data’\n",
      "\n",
      "ionosphere.data     100%[===================>]  74,67K  32,5KB/s    in 2,3s    \n",
      "\n",
      "2020-03-01 15:32:28 (32,5 KB/s) - ‘ionosphere.data’ saved [76467/76467]\n",
      "\n"
     ]
    }
   ],
   "source": [
    "!wget http://archive.ics.uci.edu/ml/machine-learning-databases/ionosphere/ionosphere.data"
   ]
  },
  {
   "cell_type": "markdown",
   "metadata": {},
   "source": [
    "### Time-based learning rate schedule"
   ]
  },
  {
   "cell_type": "code",
   "execution_count": 20,
   "metadata": {},
   "outputs": [
    {
     "data": {
      "text/plain": [
       "(50, 50)"
      ]
     },
     "execution_count": 20,
     "metadata": {},
     "output_type": "execute_result"
    }
   ],
   "source": [
    "# understanding Learning rate schedulers\n",
    "# Set decay constant, lr and starting epoch\n",
    "decay = 0.001\n",
    "lr = 0.01\n",
    "epoch = 0\n",
    "# collect lr and epoch values\n",
    "lr_list = []\n",
    "epoch_list = []\n",
    "# set up while loop for learning rate update\n",
    "while epoch < 50:\n",
    "    lr = lr * (1/(1+decay*epoch))\n",
    "    epoch+=1\n",
    "    lr_list.append(lr)\n",
    "    epoch_list.append(epoch)\n",
    "    #print(lr)\n",
    "# Verfiy the length of the lists\n",
    "len(epoch_list), len(lr_list)"
   ]
  },
  {
   "cell_type": "code",
   "execution_count": 21,
   "metadata": {},
   "outputs": [],
   "source": [
    "import matplotlib.pyplot as plt"
   ]
  },
  {
   "cell_type": "code",
   "execution_count": 22,
   "metadata": {},
   "outputs": [
    {
     "data": {
      "image/png": "[encoded data removed]",
      "text/plain": [
       "<Figure size 432x288 with 1 Axes>"
      ]
     },
     "metadata": {
      "needs_background": "light"
     },
     "output_type": "display_data"
    }
   ],
   "source": [
    "plt.plot(epoch_list, lr_list)\n",
    "plt.show()"
   ]
  },
  {
   "cell_type": "code",
   "execution_count": 23,
   "metadata": {},
   "outputs": [
    {
     "name": "stdout",
     "output_type": "stream",
     "text": [
      "Train on 235 samples, validate on 116 samples\n",
      "Epoch 1/50\n",
      " - 1s - loss: 0.6813 - accuracy: 0.6468 - val_loss: 0.6380 - val_accuracy: 0.8621\n",
      "Epoch 2/50\n",
      " - 0s - loss: 0.6370 - accuracy: 0.7319 - val_loss: 0.5292 - val_accuracy: 0.8276\n",
      "Epoch 3/50\n",
      " - 0s - loss: 0.5585 - accuracy: 0.8213 - val_loss: 0.4757 - val_accuracy: 0.8362\n",
      "Epoch 4/50\n",
      " - 0s - loss: 0.4680 - accuracy: 0.8383 - val_loss: 0.4419 - val_accuracy: 0.9224\n",
      "Epoch 5/50\n",
      " - 0s - loss: 0.3844 - accuracy: 0.8681 - val_loss: 0.2779 - val_accuracy: 0.9483\n",
      "Epoch 6/50\n",
      " - 0s - loss: 0.3162 - accuracy: 0.8851 - val_loss: 0.3921 - val_accuracy: 0.8879\n",
      "Epoch 7/50\n",
      " - 0s - loss: 0.2755 - accuracy: 0.9106 - val_loss: 0.2269 - val_accuracy: 0.9483\n",
      "Epoch 8/50\n",
      " - 0s - loss: 0.2405 - accuracy: 0.9106 - val_loss: 0.1437 - val_accuracy: 0.9569\n",
      "Epoch 9/50\n",
      " - 0s - loss: 0.2437 - accuracy: 0.9106 - val_loss: 0.2217 - val_accuracy: 0.9483\n",
      "Epoch 10/50\n",
      " - 0s - loss: 0.2028 - accuracy: 0.9191 - val_loss: 0.2543 - val_accuracy: 0.9224\n",
      "Epoch 11/50\n",
      " - 0s - loss: 0.1919 - accuracy: 0.9234 - val_loss: 0.1894 - val_accuracy: 0.9483\n",
      "Epoch 12/50\n",
      " - 0s - loss: 0.1726 - accuracy: 0.9404 - val_loss: 0.1133 - val_accuracy: 0.9655\n",
      "Epoch 13/50\n",
      " - 0s - loss: 0.1800 - accuracy: 0.9319 - val_loss: 0.1033 - val_accuracy: 0.9741\n",
      "Epoch 14/50\n",
      " - 0s - loss: 0.1664 - accuracy: 0.9362 - val_loss: 0.1692 - val_accuracy: 0.9569\n",
      "Epoch 15/50\n",
      " - 0s - loss: 0.1431 - accuracy: 0.9489 - val_loss: 0.0981 - val_accuracy: 0.9828\n",
      "Epoch 16/50\n",
      " - 0s - loss: 0.1477 - accuracy: 0.9447 - val_loss: 0.1673 - val_accuracy: 0.9569\n",
      "Epoch 17/50\n",
      " - 0s - loss: 0.1463 - accuracy: 0.9532 - val_loss: 0.1516 - val_accuracy: 0.9655\n",
      "Epoch 18/50\n",
      " - 0s - loss: 0.1354 - accuracy: 0.9489 - val_loss: 0.1199 - val_accuracy: 0.9914\n",
      "Epoch 19/50\n",
      " - 0s - loss: 0.1283 - accuracy: 0.9489 - val_loss: 0.0919 - val_accuracy: 0.9914\n",
      "Epoch 20/50\n",
      " - 0s - loss: 0.1220 - accuracy: 0.9660 - val_loss: 0.1129 - val_accuracy: 0.9914\n",
      "Epoch 21/50\n",
      " - 0s - loss: 0.1159 - accuracy: 0.9617 - val_loss: 0.1043 - val_accuracy: 0.9914\n",
      "Epoch 22/50\n",
      " - 0s - loss: 0.1093 - accuracy: 0.9574 - val_loss: 0.1083 - val_accuracy: 0.9914\n",
      "Epoch 23/50\n",
      " - 0s - loss: 0.1098 - accuracy: 0.9617 - val_loss: 0.1061 - val_accuracy: 0.9914\n",
      "Epoch 24/50\n",
      " - 0s - loss: 0.1017 - accuracy: 0.9660 - val_loss: 0.0758 - val_accuracy: 0.9914\n",
      "Epoch 25/50\n",
      " - 0s - loss: 0.1114 - accuracy: 0.9617 - val_loss: 0.1081 - val_accuracy: 0.9914\n",
      "Epoch 26/50\n",
      " - 0s - loss: 0.0963 - accuracy: 0.9617 - val_loss: 0.0859 - val_accuracy: 0.9914\n",
      "Epoch 27/50\n",
      " - 0s - loss: 0.0953 - accuracy: 0.9702 - val_loss: 0.0887 - val_accuracy: 0.9914\n",
      "Epoch 28/50\n",
      " - 0s - loss: 0.0947 - accuracy: 0.9745 - val_loss: 0.0895 - val_accuracy: 0.9914\n",
      "Epoch 29/50\n",
      " - 0s - loss: 0.0855 - accuracy: 0.9787 - val_loss: 0.0873 - val_accuracy: 0.9914\n",
      "Epoch 30/50\n",
      " - 0s - loss: 0.0875 - accuracy: 0.9745 - val_loss: 0.0885 - val_accuracy: 0.9914\n",
      "Epoch 31/50\n",
      " - 0s - loss: 0.0852 - accuracy: 0.9787 - val_loss: 0.0835 - val_accuracy: 0.9914\n",
      "Epoch 32/50\n",
      " - 0s - loss: 0.0816 - accuracy: 0.9830 - val_loss: 0.0855 - val_accuracy: 0.9914\n",
      "Epoch 33/50\n",
      " - 0s - loss: 0.0771 - accuracy: 0.9830 - val_loss: 0.0866 - val_accuracy: 0.9914\n",
      "Epoch 34/50\n",
      " - 0s - loss: 0.0803 - accuracy: 0.9787 - val_loss: 0.0960 - val_accuracy: 0.9914\n",
      "Epoch 35/50\n",
      " - 0s - loss: 0.0754 - accuracy: 0.9830 - val_loss: 0.0737 - val_accuracy: 0.9828\n",
      "Epoch 36/50\n",
      " - 0s - loss: 0.0759 - accuracy: 0.9830 - val_loss: 0.0783 - val_accuracy: 0.9914\n",
      "Epoch 37/50\n",
      " - 0s - loss: 0.0708 - accuracy: 0.9830 - val_loss: 0.0855 - val_accuracy: 0.9914\n",
      "Epoch 38/50\n",
      " - 0s - loss: 0.0717 - accuracy: 0.9787 - val_loss: 0.0715 - val_accuracy: 0.9914\n",
      "Epoch 39/50\n",
      " - 0s - loss: 0.0750 - accuracy: 0.9787 - val_loss: 0.0851 - val_accuracy: 0.9914\n",
      "Epoch 40/50\n",
      " - 0s - loss: 0.0698 - accuracy: 0.9830 - val_loss: 0.0726 - val_accuracy: 0.9914\n",
      "Epoch 41/50\n",
      " - 0s - loss: 0.0657 - accuracy: 0.9787 - val_loss: 0.0821 - val_accuracy: 0.9914\n",
      "Epoch 42/50\n",
      " - 0s - loss: 0.0667 - accuracy: 0.9787 - val_loss: 0.0852 - val_accuracy: 0.9914\n",
      "Epoch 43/50\n",
      " - 0s - loss: 0.0665 - accuracy: 0.9830 - val_loss: 0.0746 - val_accuracy: 0.9914\n",
      "Epoch 44/50\n",
      " - 0s - loss: 0.0661 - accuracy: 0.9787 - val_loss: 0.0676 - val_accuracy: 0.9828\n",
      "Epoch 45/50\n",
      " - 0s - loss: 0.0622 - accuracy: 0.9830 - val_loss: 0.0911 - val_accuracy: 0.9914\n",
      "Epoch 46/50\n",
      " - 0s - loss: 0.0686 - accuracy: 0.9830 - val_loss: 0.0694 - val_accuracy: 0.9914\n",
      "Epoch 47/50\n",
      " - 0s - loss: 0.0664 - accuracy: 0.9872 - val_loss: 0.0604 - val_accuracy: 0.9828\n",
      "Epoch 48/50\n",
      " - 0s - loss: 0.0628 - accuracy: 0.9872 - val_loss: 0.0799 - val_accuracy: 0.9914\n",
      "Epoch 49/50\n",
      " - 0s - loss: 0.0592 - accuracy: 0.9830 - val_loss: 0.0769 - val_accuracy: 0.9914\n",
      "Epoch 50/50\n",
      " - 0s - loss: 0.0595 - accuracy: 0.9872 - val_loss: 0.0614 - val_accuracy: 0.9828\n"
     ]
    },
    {
     "data": {
      "text/plain": [
       "<keras.callbacks.callbacks.History at 0x7fc50f799da0>"
      ]
     },
     "execution_count": 23,
     "metadata": {},
     "output_type": "execute_result"
    }
   ],
   "source": [
    "# fox random seed for reproducibility\n",
    "seed = 7\n",
    "np.random.seed(seed)\n",
    "# load dataset\n",
    "dataframe = pd.read_csv('ionosphere.data', header=None)\n",
    "dataset = dataframe.values\n",
    "# split into input (X) and output (Y) variables\n",
    "X = dataset[:, 0:34]\n",
    "Y = dataset[:,34]\n",
    "# encode class values as integers\n",
    "encoder = LabelEncoder()\n",
    "encoder.fit(Y)\n",
    "encoded_Y = encoder.transform(Y)\n",
    "# create model\n",
    "model = Sequential()\n",
    "model.add(Dense(34, input_dim=34, kernel_initializer='normal', activation='relu'))\n",
    "model.add(Dense(1, kernel_initializer='normal', activation='sigmoid'))\n",
    "# compile model\n",
    "epochs = 50\n",
    "learning_rate = 0.1\n",
    "decay_rate = learning_rate / epochs\n",
    "momentum = 0.8\n",
    "sgd = SGD(learning_rate=learning_rate, momentum=momentum, decay=decay_rate, nesterov=False)\n",
    "model.compile(loss='binary_crossentropy', optimizer=sgd, metrics=['accuracy'])\n",
    "# fit the model\n",
    "model.fit(X, encoded_Y, validation_split=0.33, epochs=epochs, batch_size=28, verbose=2)"
   ]
  },
  {
   "cell_type": "markdown",
   "metadata": {},
   "source": [
    "### Drop-based learning rate schedule"
   ]
  },
  {
   "cell_type": "code",
   "execution_count": 25,
   "metadata": {},
   "outputs": [],
   "source": [
    "from keras.callbacks import LearningRateScheduler\n",
    "import math"
   ]
  },
  {
   "cell_type": "code",
   "execution_count": 27,
   "metadata": {},
   "outputs": [
    {
     "name": "stdout",
     "output_type": "stream",
     "text": [
      "Train on 235 samples, validate on 116 samples\n",
      "Epoch 1/50\n",
      " - 2s - loss: 0.6809 - accuracy: 0.6511 - val_loss: 0.6252 - val_accuracy: 0.9224\n",
      "Epoch 2/50\n",
      " - 0s - loss: 0.6256 - accuracy: 0.7277 - val_loss: 0.4824 - val_accuracy: 0.8793\n",
      "Epoch 3/50\n",
      " - 0s - loss: 0.5197 - accuracy: 0.8213 - val_loss: 0.4360 - val_accuracy: 0.9224\n",
      "Epoch 4/50\n",
      " - 0s - loss: 0.3965 - accuracy: 0.8511 - val_loss: 0.3715 - val_accuracy: 0.9138\n",
      "Epoch 5/50\n",
      " - 0s - loss: 0.3103 - accuracy: 0.8894 - val_loss: 0.1614 - val_accuracy: 0.9569\n",
      "Epoch 6/50\n",
      " - 0s - loss: 0.2578 - accuracy: 0.8979 - val_loss: 0.3832 - val_accuracy: 0.8276\n",
      "Epoch 7/50\n",
      " - 0s - loss: 0.2194 - accuracy: 0.9277 - val_loss: 0.1249 - val_accuracy: 0.9655\n",
      "Epoch 8/50\n",
      " - 0s - loss: 0.2290 - accuracy: 0.9064 - val_loss: 0.1687 - val_accuracy: 0.9741\n",
      "Epoch 9/50\n",
      " - 0s - loss: 0.2012 - accuracy: 0.9191 - val_loss: 0.1660 - val_accuracy: 0.9741\n",
      "Epoch 10/50\n",
      " - 0s - loss: 0.1750 - accuracy: 0.9362 - val_loss: 0.1359 - val_accuracy: 0.9828\n",
      "Epoch 11/50\n",
      " - 0s - loss: 0.1506 - accuracy: 0.9532 - val_loss: 0.1551 - val_accuracy: 0.9741\n",
      "Epoch 12/50\n",
      " - 0s - loss: 0.1454 - accuracy: 0.9532 - val_loss: 0.0962 - val_accuracy: 0.9741\n",
      "Epoch 13/50\n",
      " - 0s - loss: 0.1474 - accuracy: 0.9489 - val_loss: 0.1201 - val_accuracy: 0.9741\n",
      "Epoch 14/50\n",
      " - 0s - loss: 0.1251 - accuracy: 0.9532 - val_loss: 0.1060 - val_accuracy: 0.9828\n",
      "Epoch 15/50\n",
      " - 0s - loss: 0.1199 - accuracy: 0.9574 - val_loss: 0.1008 - val_accuracy: 0.9914\n",
      "Epoch 16/50\n",
      " - 0s - loss: 0.1242 - accuracy: 0.9617 - val_loss: 0.0965 - val_accuracy: 0.9914\n",
      "Epoch 17/50\n",
      " - 0s - loss: 0.1114 - accuracy: 0.9617 - val_loss: 0.1305 - val_accuracy: 0.9828\n",
      "Epoch 18/50\n",
      " - 0s - loss: 0.1076 - accuracy: 0.9660 - val_loss: 0.0932 - val_accuracy: 0.9828\n",
      "Epoch 19/50\n",
      " - 0s - loss: 0.1033 - accuracy: 0.9660 - val_loss: 0.1051 - val_accuracy: 0.9828\n",
      "Epoch 20/50\n",
      " - 0s - loss: 0.0999 - accuracy: 0.9745 - val_loss: 0.0886 - val_accuracy: 0.9914\n",
      "Epoch 21/50\n",
      " - 0s - loss: 0.0985 - accuracy: 0.9745 - val_loss: 0.0922 - val_accuracy: 0.9914\n",
      "Epoch 22/50\n",
      " - 0s - loss: 0.0954 - accuracy: 0.9745 - val_loss: 0.0958 - val_accuracy: 0.9914\n",
      "Epoch 23/50\n",
      " - 0s - loss: 0.0939 - accuracy: 0.9787 - val_loss: 0.0894 - val_accuracy: 0.9914\n",
      "Epoch 24/50\n",
      " - 0s - loss: 0.0919 - accuracy: 0.9787 - val_loss: 0.0950 - val_accuracy: 0.9914\n",
      "Epoch 25/50\n",
      " - 0s - loss: 0.0899 - accuracy: 0.9787 - val_loss: 0.0834 - val_accuracy: 0.9914\n",
      "Epoch 26/50\n",
      " - 0s - loss: 0.0897 - accuracy: 0.9787 - val_loss: 0.0936 - val_accuracy: 0.9914\n",
      "Epoch 27/50\n",
      " - 0s - loss: 0.0863 - accuracy: 0.9787 - val_loss: 0.0886 - val_accuracy: 0.9914\n",
      "Epoch 28/50\n",
      " - 0s - loss: 0.0858 - accuracy: 0.9787 - val_loss: 0.0858 - val_accuracy: 0.9914\n",
      "Epoch 29/50\n",
      " - 0s - loss: 0.0843 - accuracy: 0.9787 - val_loss: 0.0898 - val_accuracy: 0.9914\n",
      "Epoch 30/50\n",
      " - 0s - loss: 0.0837 - accuracy: 0.9787 - val_loss: 0.0866 - val_accuracy: 0.9914\n",
      "Epoch 31/50\n",
      " - 0s - loss: 0.0829 - accuracy: 0.9787 - val_loss: 0.0905 - val_accuracy: 0.9914\n",
      "Epoch 32/50\n",
      " - 0s - loss: 0.0815 - accuracy: 0.9787 - val_loss: 0.0859 - val_accuracy: 0.9914\n",
      "Epoch 33/50\n",
      " - 0s - loss: 0.0807 - accuracy: 0.9787 - val_loss: 0.0838 - val_accuracy: 0.9914\n",
      "Epoch 34/50\n",
      " - 0s - loss: 0.0802 - accuracy: 0.9787 - val_loss: 0.0861 - val_accuracy: 0.9914\n",
      "Epoch 35/50\n",
      " - 0s - loss: 0.0800 - accuracy: 0.9787 - val_loss: 0.0896 - val_accuracy: 0.9914\n",
      "Epoch 36/50\n",
      " - 0s - loss: 0.0786 - accuracy: 0.9787 - val_loss: 0.0853 - val_accuracy: 0.9914\n",
      "Epoch 37/50\n",
      " - 0s - loss: 0.0782 - accuracy: 0.9787 - val_loss: 0.0829 - val_accuracy: 0.9914\n",
      "Epoch 38/50\n",
      " - 0s - loss: 0.0781 - accuracy: 0.9787 - val_loss: 0.0844 - val_accuracy: 0.9914\n",
      "Epoch 39/50\n",
      " - 0s - loss: 0.0774 - accuracy: 0.9787 - val_loss: 0.0801 - val_accuracy: 0.9914\n",
      "Epoch 40/50\n",
      " - 0s - loss: 0.0771 - accuracy: 0.9787 - val_loss: 0.0805 - val_accuracy: 0.9914\n",
      "Epoch 41/50\n",
      " - 0s - loss: 0.0763 - accuracy: 0.9787 - val_loss: 0.0851 - val_accuracy: 0.9914\n",
      "Epoch 42/50\n",
      " - 0s - loss: 0.0762 - accuracy: 0.9787 - val_loss: 0.0836 - val_accuracy: 0.9914\n",
      "Epoch 43/50\n",
      " - 0s - loss: 0.0760 - accuracy: 0.9787 - val_loss: 0.0821 - val_accuracy: 0.9914\n",
      "Epoch 44/50\n",
      " - 0s - loss: 0.0757 - accuracy: 0.9787 - val_loss: 0.0818 - val_accuracy: 0.9914\n",
      "Epoch 45/50\n",
      " - 0s - loss: 0.0757 - accuracy: 0.9787 - val_loss: 0.0792 - val_accuracy: 0.9914\n",
      "Epoch 46/50\n",
      " - 0s - loss: 0.0753 - accuracy: 0.9787 - val_loss: 0.0797 - val_accuracy: 0.9914\n",
      "Epoch 47/50\n",
      " - 0s - loss: 0.0755 - accuracy: 0.9830 - val_loss: 0.0839 - val_accuracy: 0.9914\n",
      "Epoch 48/50\n",
      " - 0s - loss: 0.0747 - accuracy: 0.9830 - val_loss: 0.0842 - val_accuracy: 0.9914\n",
      "Epoch 49/50\n",
      " - 0s - loss: 0.0744 - accuracy: 0.9830 - val_loss: 0.0815 - val_accuracy: 0.9914\n",
      "Epoch 50/50\n",
      " - 0s - loss: 0.0742 - accuracy: 0.9830 - val_loss: 0.0830 - val_accuracy: 0.9914\n"
     ]
    },
    {
     "data": {
      "text/plain": [
       "<keras.callbacks.callbacks.History at 0x7fc50f16ab70>"
      ]
     },
     "execution_count": 27,
     "metadata": {},
     "output_type": "execute_result"
    }
   ],
   "source": [
    "# learning rate schedule\n",
    "def step_decay(epoch):\n",
    "    initial_lrate = 0.1\n",
    "    drop = 0.5\n",
    "    epochs_drop = 10.0\n",
    "    lrate = initial_lrate * math.pow(drop, math.floor(1+epoch)/epochs_drop)\n",
    "    return lrate\n",
    "seed = 7\n",
    "np.random.seed(seed)\n",
    "# load dataset\n",
    "dataframe = pd.read_csv('ionosphere.data', header=None)\n",
    "dataset = dataframe.values\n",
    "# split into input (X) and output (Y) variables\n",
    "X = dataset[:, 0:34]\n",
    "Y = dataset[:,34]\n",
    "# encode class values as integers\n",
    "encoder = LabelEncoder()\n",
    "encoder.fit(Y)\n",
    "encoded_Y = encoder.transform(Y)\n",
    "# create model\n",
    "model = Sequential()\n",
    "model.add(Dense(34, input_dim=34, kernel_initializer='normal', activation='relu'))\n",
    "model.add(Dense(1, kernel_initializer='normal', activation='sigmoid'))\n",
    "# compile model\n",
    "sgd = SGD(learning_rate=0.0, momentum=0.9, decay=0.0, nesterov=False)\n",
    "model.compile(loss='binary_crossentropy', optimizer=sgd, metrics=['accuracy'])\n",
    "# learning schedule callback\n",
    "lrate = LearningRateScheduler(step_decay)\n",
    "callbacks_list = [lrate]\n",
    "# fit the model\n",
    "model.fit(X, encoded_Y, validation_split=0.33, epochs=50, batch_size=28,callbacks=callbacks_list,  verbose=2)"
   ]
  },
  {
   "cell_type": "code",
   "execution_count": null,
   "metadata": {},
   "outputs": [],
   "source": []
  },
  {
   "cell_type": "code",
   "execution_count": null,
   "metadata": {},
   "outputs": [],
   "source": []
  }
 ],
 "metadata": {
  "kernelspec": {
   "display_name": "Python 3",
   "language": "python",
   "name": "python3"
  },
  "language_info": {
   "codemirror_mode": {
    "name": "ipython",
    "version": 3
   },
   "file_extension": ".py",
   "mimetype": "text/x-python",
   "name": "python",
   "nbconvert_exporter": "python",
   "pygments_lexer": "ipython3",
   "version": "3.7.3"
  }
 },
 "nbformat": 4,
 "nbformat_minor": 2
}
